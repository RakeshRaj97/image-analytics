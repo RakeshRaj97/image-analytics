{
 "cells": [
  {
   "cell_type": "code",
   "execution_count": 9,
   "metadata": {},
   "outputs": [],
   "source": [
    "import numpy as np\n",
    "import cv2\n",
    "import face_recognition\n",
    "import matplotlib.pyplot as plt\n",
    "%matplotlib inline"
   ]
  },
  {
   "cell_type": "code",
   "execution_count": 3,
   "metadata": {},
   "outputs": [
    {
     "name": "stdout",
     "output_type": "stream",
     "text": [
      "[{'chin': [(94, 91), (95, 100), (97, 109), (100, 118), (103, 126), (109, 134), (116, 141), (124, 146), (134, 148), (143, 144), (150, 138), (156, 130), (161, 121), (163, 111), (163, 101), (163, 92), (163, 83)], 'left_eyebrow': [(97, 84), (100, 78), (106, 75), (113, 74), (119, 76)], 'right_eyebrow': [(133, 74), (139, 71), (146, 70), (153, 72), (157, 78)], 'nose_bridge': [(127, 82), (128, 89), (128, 96), (129, 103)], 'nose_tip': [(122, 106), (126, 107), (130, 108), (134, 106), (137, 105)], 'left_eye': [(106, 87), (110, 85), (114, 84), (118, 86), (114, 87), (110, 87)], 'right_eye': [(137, 84), (141, 81), (145, 81), (149, 82), (146, 83), (142, 84)], 'top_lip': [(114, 116), (120, 114), (126, 113), (131, 113), (136, 112), (142, 111), (149, 111), (147, 112), (136, 114), (131, 116), (126, 116), (116, 116)], 'bottom_lip': [(149, 111), (144, 120), (137, 125), (132, 127), (127, 127), (120, 124), (114, 116), (116, 116), (127, 122), (132, 122), (137, 121), (147, 112)]}]\n"
     ]
    }
   ],
   "source": [
    "image = cv2.imread(\"smile1.jpg\")\n",
    "\n",
    "face_landmarks_list = face_recognition.face_landmarks(image)\n",
    "print(face_landmarks_list)"
   ]
  },
  {
   "cell_type": "code",
   "execution_count": 5,
   "metadata": {},
   "outputs": [
    {
     "name": "stdout",
     "output_type": "stream",
     "text": [
      "[(114, 116), (120, 114), (126, 113), (131, 113), (136, 112), (142, 111), (149, 111), (147, 112), (136, 114), (131, 116), (126, 116), (116, 116)]\n",
      "[(149, 111), (144, 120), (137, 125), (132, 127), (127, 127), (120, 124), (114, 116), (116, 116), (127, 122), (132, 122), (137, 121), (147, 112)]\n"
     ]
    }
   ],
   "source": [
    "top_lip = face_landmarks_list[0]['top_lip']\n",
    "bottom_lip = face_landmarks_list[0]['bottom_lip']\n",
    "print(top_lip)\n",
    "print(bottom_lip)"
   ]
  },
  {
   "cell_type": "code",
   "execution_count": 11,
   "metadata": {},
   "outputs": [],
   "source": [
    "#annotate index number for lip points\n",
    "def add_index(ax, text, x, y, v_offset=3, color='black'):\n",
    "    ax.annotate(text,\n",
    "               xy = (x, y),\n",
    "               xytext = (0, v_offset),\n",
    "               textcoords = 'offset points',\n",
    "               ha = 'center',\n",
    "               va = 'bottom',\n",
    "               color = color\n",
    "               )\n",
    "\n",
    "# draw height line\n",
    "def draw_line(ax,x1,y1,x2,y2,color='black'):\n",
    "    ax.annotate('', # empty text\n",
    "                xy=(x1, y1),\n",
    "                xytext=(x2, y2),\n",
    "                ha='center', # ha = 'left',\n",
    "                va='bottom',\n",
    "                arrowprops=dict(edgecolor=color,arrowstyle=\"<->\",linestyle='--') # facecolor=color,\n",
    "               )    \n",
    "    \n",
    "    \n",
    "def plot_mouth():\n",
    "    x1 = [x for x,y in top_lip]\n",
    "    y1 = [y for x,y in top_lip]\n",
    "    x2 = [x for x,y in bottom_lip]\n",
    "    y2 = [y for x,y in bottom_lip]\n",
    "    \n",
    "    fig, ax = plt.subplots()\n",
    "    ax.plot(x1, y1, color='green', marker='o')\n",
    "    ax.plot(x2, y2, color='blue', marker='x')\n",
    "    \n",
    "    plt.gca().invert_yaxis()\n",
    "    \n",
    "    #add index number for top lip\n",
    "    for i in range(12):\n",
    "        x = top_lip[i][0]\n",
    "        y = top_lip[i][1]\n",
    "        add_index(ax,str(i),x,y,color='green',v_offset=5)\n",
    "        \n",
    "    #add index for bottom lip\n",
    "    for i in range(12):\n",
    "        x = bottom_lip[i][0]\n",
    "        y = bottom_lip[i][1]\n",
    "        add_index(ax, str(i), x, y, color='blue', v_offset=-20)\n",
    "        \n",
    "     # draw line - top lip\n",
    "    for i in [2,3,4]:\n",
    "        x1 = top_lip[i][0]\n",
    "        y1 = top_lip[i][1]\n",
    "        x2 = top_lip[12-i][0]\n",
    "        y2 = top_lip[12-i][1]\n",
    "        draw_line(ax,x1,y1,x2,y2,color='green')\n",
    "\n",
    "    # draw line - bottom lip\n",
    "    for i in [2,3,4]:\n",
    "        x1 = bottom_lip[i][0]\n",
    "        y1 = bottom_lip[i][1]\n",
    "        x2 = bottom_lip[12-i][0]\n",
    "        y2 = bottom_lip[12-i][1]\n",
    "        draw_line(ax,x1,y1,x2,y2,color='blue')\n",
    "\n",
    "    # draw line - mouth\n",
    "    for i in [8,9,10]:\n",
    "        x1 = top_lip[i][0]\n",
    "        y1 = top_lip[i][1]\n",
    "        x2 = bottom_lip[18-i][0]\n",
    "        y2 = bottom_lip[18-i][1]\n",
    "        draw_line(ax,x1,y1,x2,y2,color='black')\n",
    "\n",
    "    # annotate height\n",
    "    # top lip height\n",
    "    x = (top_lip[4][0] + top_lip[8][0])/2\n",
    "    y = (top_lip[4][1] + top_lip[8][1])/2\n",
    "    ax.annotate('lip height',\n",
    "                xy=(x, y), xytext=(5,0), textcoords='offset points',\n",
    "                ha='left', va='top',color='green')\n",
    "\n",
    "    # bottom lip height\n",
    "    x = (bottom_lip[2][0] + bottom_lip[10][0])/2\n",
    "    y = (bottom_lip[2][1] + bottom_lip[10][1])/2\n",
    "    ax.annotate('lip height',\n",
    "                xy=(x, y), xytext=(5,0), textcoords='offset points',\n",
    "                ha='left', va='bottom',color='blue')\n",
    "\n",
    "    # mouth height\n",
    "    x = (top_lip[8][0] + bottom_lip[10][0])/2\n",
    "    y = (top_lip[8][1] + bottom_lip[10][1])/2\n",
    "    ax.annotate('mouth height',\n",
    "                xy=(x, y), xytext=(5,0), textcoords='offset points',\n",
    "                ha='left', va='bottom',color='black')\n",
    "\n",
    "    plt.show()"
   ]
  },
  {
   "cell_type": "code",
   "execution_count": 12,
   "metadata": {},
   "outputs": [
    {
     "data": {
      "image/png": "[encoded data removed]",
      "text/plain": [
       "<Figure size 432x288 with 1 Axes>"
      ]
     },
     "metadata": {
      "needs_background": "light"
     },
     "output_type": "display_data"
    }
   ],
   "source": [
    "plot_mouth()"
   ]
  },
  {
   "cell_type": "code",
   "execution_count": null,
   "metadata": {},
   "outputs": [],
   "source": []
  }
 ],
 "metadata": {
  "kernelspec": {
   "display_name": "Python 3",
   "language": "python",
   "name": "python3"
  },
  "language_info": {
   "codemirror_mode": {
    "name": "ipython",
    "version": 3
   },
   "file_extension": ".py",
   "mimetype": "text/x-python",
   "name": "python",
   "nbconvert_exporter": "python",
   "pygments_lexer": "ipython3",
   "version": "3.7.6"
  }
 },
 "nbformat": 4,
 "nbformat_minor": 4
}
