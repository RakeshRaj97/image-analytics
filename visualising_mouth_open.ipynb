{
 "cells": [
  {
   "cell_type": "code",
   "execution_count": 9,
   "metadata": {},
   "outputs": [],
   "source": [
    "import numpy as np\n",
    "import cv2\n",
    "import face_recognition\n",
    "import matplotlib.pyplot as plt\n",
    "%matplotlib inline"
   ]
  },
  {
   "cell_type": "code",
   "execution_count": 14,
   "metadata": {},
   "outputs": [
    {
     "name": "stdout",
     "output_type": "stream",
     "text": [
      "[{'chin': [(59, 83), (60, 93), (61, 103), (63, 114), (67, 123), (74, 132), (82, 139), (91, 144), (100, 145), (110, 144), (117, 138), (124, 130), (130, 121), (133, 112), (136, 103), (137, 94), (138, 85)], 'left_eyebrow': [(69, 77), (75, 72), (82, 71), (90, 71), (97, 75)], 'right_eyebrow': [(106, 74), (113, 72), (121, 72), (128, 73), (133, 78)], 'nose_bridge': [(101, 80), (102, 88), (102, 95), (102, 104)], 'nose_tip': [(92, 105), (96, 107), (101, 110), (106, 107), (110, 105)], 'left_eye': [(77, 81), (81, 79), (86, 79), (90, 82), (86, 83), (81, 82)], 'right_eye': [(112, 83), (116, 80), (121, 80), (124, 83), (121, 84), (116, 83)], 'top_lip': [(81, 114), (90, 114), (97, 115), (101, 116), (105, 115), (111, 115), (117, 115), (115, 116), (105, 117), (101, 117), (97, 116), (84, 115)], 'bottom_lip': [(117, 115), (111, 121), (105, 124), (101, 124), (96, 123), (89, 120), (81, 114), (84, 115), (96, 120), (101, 120), (105, 120), (115, 116)]}]\n"
     ]
    }
   ],
   "source": [
    "image = cv2.imread(\"bill.jpg\")\n",
    "\n",
    "face_landmarks_list = face_recognition.face_landmarks(image)\n",
    "print(face_landmarks_list)"
   ]
  },
  {
   "cell_type": "code",
   "execution_count": 15,
   "metadata": {},
   "outputs": [
    {
     "name": "stdout",
     "output_type": "stream",
     "text": [
      "[(81, 114), (90, 114), (97, 115), (101, 116), (105, 115), (111, 115), (117, 115), (115, 116), (105, 117), (101, 117), (97, 116), (84, 115)]\n",
      "[(117, 115), (111, 121), (105, 124), (101, 124), (96, 123), (89, 120), (81, 114), (84, 115), (96, 120), (101, 120), (105, 120), (115, 116)]\n"
     ]
    }
   ],
   "source": [
    "top_lip = face_landmarks_list[0]['top_lip']\n",
    "bottom_lip = face_landmarks_list[0]['bottom_lip']\n",
    "print(top_lip)\n",
    "print(bottom_lip)"
   ]
  },
  {
   "cell_type": "code",
   "execution_count": 16,
   "metadata": {},
   "outputs": [],
   "source": [
    "#annotate index number for lip points\n",
    "def add_index(ax, text, x, y, v_offset=3, color='black'):\n",
    "    ax.annotate(text,\n",
    "               xy = (x, y),\n",
    "               xytext = (0, v_offset),\n",
    "               textcoords = 'offset points',\n",
    "               ha = 'center',\n",
    "               va = 'bottom',\n",
    "               color = color\n",
    "               )\n",
    "\n",
    "# draw height line\n",
    "def draw_line(ax,x1,y1,x2,y2,color='black'):\n",
    "    ax.annotate('', # empty text\n",
    "                xy=(x1, y1),\n",
    "                xytext=(x2, y2),\n",
    "                ha='center', # ha = 'left',\n",
    "                va='bottom',\n",
    "                arrowprops=dict(edgecolor=color,arrowstyle=\"<->\",linestyle='--') # facecolor=color,\n",
    "               )    \n",
    "    \n",
    "    \n",
    "def plot_mouth():\n",
    "    x1 = [x for x,y in top_lip]\n",
    "    y1 = [y for x,y in top_lip]\n",
    "    x2 = [x for x,y in bottom_lip]\n",
    "    y2 = [y for x,y in bottom_lip]\n",
    "    \n",
    "    fig, ax = plt.subplots()\n",
    "    ax.plot(x1, y1, color='green', marker='o')\n",
    "    ax.plot(x2, y2, color='blue', marker='x')\n",
    "    \n",
    "    plt.gca().invert_yaxis()\n",
    "    \n",
    "    #add index number for top lip\n",
    "    for i in range(12):\n",
    "        x = top_lip[i][0]\n",
    "        y = top_lip[i][1]\n",
    "        add_index(ax,str(i),x,y,color='green',v_offset=5)\n",
    "        \n",
    "    #add index for bottom lip\n",
    "    for i in range(12):\n",
    "        x = bottom_lip[i][0]\n",
    "        y = bottom_lip[i][1]\n",
    "        add_index(ax, str(i), x, y, color='blue', v_offset=-20)\n",
    "        \n",
    "     # draw line - top lip\n",
    "    for i in [2,3,4]:\n",
    "        x1 = top_lip[i][0]\n",
    "        y1 = top_lip[i][1]\n",
    "        x2 = top_lip[12-i][0]\n",
    "        y2 = top_lip[12-i][1]\n",
    "        draw_line(ax,x1,y1,x2,y2,color='green')\n",
    "\n",
    "    # draw line - bottom lip\n",
    "    for i in [2,3,4]:\n",
    "        x1 = bottom_lip[i][0]\n",
    "        y1 = bottom_lip[i][1]\n",
    "        x2 = bottom_lip[12-i][0]\n",
    "        y2 = bottom_lip[12-i][1]\n",
    "        draw_line(ax,x1,y1,x2,y2,color='blue')\n",
    "\n",
    "    # draw line - mouth\n",
    "    for i in [8,9,10]:\n",
    "        x1 = top_lip[i][0]\n",
    "        y1 = top_lip[i][1]\n",
    "        x2 = bottom_lip[18-i][0]\n",
    "        y2 = bottom_lip[18-i][1]\n",
    "        draw_line(ax,x1,y1,x2,y2,color='black')\n",
    "\n",
    "    # annotate height\n",
    "    # top lip height\n",
    "    x = (top_lip[4][0] + top_lip[8][0])/2\n",
    "    y = (top_lip[4][1] + top_lip[8][1])/2\n",
    "    ax.annotate('lip height',\n",
    "                xy=(x, y), xytext=(5,0), textcoords='offset points',\n",
    "                ha='left', va='top',color='green')\n",
    "\n",
    "    # bottom lip height\n",
    "    x = (bottom_lip[2][0] + bottom_lip[10][0])/2\n",
    "    y = (bottom_lip[2][1] + bottom_lip[10][1])/2\n",
    "    ax.annotate('lip height',\n",
    "                xy=(x, y), xytext=(5,0), textcoords='offset points',\n",
    "                ha='left', va='bottom',color='blue')\n",
    "\n",
    "    # mouth height\n",
    "    x = (top_lip[8][0] + bottom_lip[10][0])/2\n",
    "    y = (top_lip[8][1] + bottom_lip[10][1])/2\n",
    "    ax.annotate('mouth height',\n",
    "                xy=(x, y), xytext=(5,0), textcoords='offset points',\n",
    "                ha='left', va='bottom',color='black')\n",
    "\n",
    "    plt.show()"
   ]
  },
  {
   "cell_type": "code",
   "execution_count": 17,
   "metadata": {},
   "outputs": [
    {
     "data": {
      "image/png": "[encoded data removed]",
      "text/plain": [
       "<Figure size 432x288 with 1 Axes>"
      ]
     },
     "metadata": {
      "needs_background": "light"
     },
     "output_type": "display_data"
    }
   ],
   "source": [
    "plot_mouth()"
   ]
  },
  {
   "cell_type": "code",
   "execution_count": null,
   "metadata": {},
   "outputs": [],
   "source": []
  }
 ],
 "metadata": {
  "kernelspec": {
   "display_name": "Python 3",
   "language": "python",
   "name": "python3"
  },
  "language_info": {
   "codemirror_mode": {
    "name": "ipython",
    "version": 3
   },
   "file_extension": ".py",
   "mimetype": "text/x-python",
   "name": "python",
   "nbconvert_exporter": "python",
   "pygments_lexer": "ipython3",
   "version": "3.7.6"
  }
 },
 "nbformat": 4,
 "nbformat_minor": 4
}
